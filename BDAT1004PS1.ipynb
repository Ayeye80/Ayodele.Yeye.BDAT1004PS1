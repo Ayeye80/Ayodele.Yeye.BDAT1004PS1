{
 "cells": [
  {
   "cell_type": "markdown",
   "metadata": {},
   "source": [
    "        # Question 1\n",
    "        \n",
    "        The data types are"
   ]
  },
  {
   "cell_type": "markdown",
   "metadata": {},
   "source": [
    "Integer\n",
    "Float\n",
    "Boolean\n",
    "String\n",
    "Concat of 2 copies of 5\n",
    "Concat of 5 & 2\n",
    "Algebraic expression\n",
    "Algebraic expression\n",
    "Algebraic expression\n",
    "Lists\n",
    "For loop\n",
    "Math Module\n"
   ]
  },
  {
   "cell_type": "code",
   "execution_count": null,
   "metadata": {},
   "outputs": [],
   "source": [
    "# Question 9\n",
    "\n",
    "\n",
    "The exception types are"
   ]
  },
  {
   "cell_type": "code",
   "execution_count": null,
   "metadata": {},
   "outputs": [],
   "source": [
    "Syntax error\n",
    "Value error\n",
    "Index error\n",
    "Name error\n",
    "FileNotFoundError"
   ]
  }
 ],
 "metadata": {
  "kernelspec": {
   "display_name": "Python 3",
   "language": "python",
   "name": "python3"
  },
  "language_info": {
   "codemirror_mode": {
    "name": "ipython",
    "version": 3
   },
   "file_extension": ".py",
   "mimetype": "text/x-python",
   "name": "python",
   "nbconvert_exporter": "python",
   "pygments_lexer": "ipython3",
   "version": "3.8.5"
  }
 },
 "nbformat": 4,
 "nbformat_minor": 4
}
